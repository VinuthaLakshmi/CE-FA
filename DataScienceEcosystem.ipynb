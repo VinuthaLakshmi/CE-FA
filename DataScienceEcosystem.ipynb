{
 "cells": [
  {
   "cell_type": "markdown",
   "id": "af00b497",
   "metadata": {},
   "source": [
    "# Data Science Tools and Ecosystem"
   ]
  },
  {
   "cell_type": "markdown",
   "id": "54edd847",
   "metadata": {},
   "source": [
    "In this notebook, Data Science Tools and Ecosystem are summarized."
   ]
  },
  {
   "cell_type": "code",
   "execution_count": null,
   "id": "c72077bd",
   "metadata": {},
   "outputs": [],
   "source": [
    "Some of the popular languages that Data Scientists use are:\n",
    "    1. Python\n",
    "    2. R\n",
    "    3. SQL\n",
    "    4. Julia"
   ]
  },
  {
   "cell_type": "code",
   "execution_count": null,
   "id": "417d7627",
   "metadata": {},
   "outputs": [],
   "source": [
    "Some of the commonly used libraries used by Data Scientists include:\n",
    "    1. Pandas\n",
    "    2. Numpy\n",
    "    3. Matltlib"
   ]
  },
  {
   "cell_type": "markdown",
   "id": "6a3088f3",
   "metadata": {},
   "source": [
    "Data Science Tools\n",
    "\n",
    "\n",
    "| Tool |Type |\n",
    "| -------------| ------ |\n",
    "| Jupyter Notebook | Open Source |\n",
    "| RStudio | Free Software |\n",
    "| Spyder | Open Source |\n"
   ]
  },
  {
   "cell_type": "markdown",
   "id": "bb921bec",
   "metadata": {},
   "source": [
    "### Below are a few examples of evaluating arithmetic expressions in Python.\n",
    "\n",
    "1. **Addition**: `2 + 3` results in `5`.\n",
    "2. **Subtraction**: `7 - 2` results in `5`.\n",
    "3. **Multiplication**: `4 * 3` results in `12`.\n",
    "4. **Division**: `10 / 2` results in `5.0`.\n",
    "5. **Exponentiation**: `2 ** 3` results in `8`."
   ]
  },
  {
   "cell_type": "code",
   "execution_count": 9,
   "id": "1cfd5f0e",
   "metadata": {},
   "outputs": [
    {
     "data": {
      "text/plain": [
       "17"
      ]
     },
     "execution_count": 9,
     "metadata": {},
     "output_type": "execute_result"
    }
   ],
   "source": [
    "#This a simple arithmetic expression to mutiply then add integers\n",
    "\n",
    "(3*4)+5"
   ]
  },
  {
   "cell_type": "code",
   "execution_count": 10,
   "id": "40da94b3",
   "metadata": {},
   "outputs": [
    {
     "data": {
      "text/plain": [
       "3.3333333333333335"
      ]
     },
     "execution_count": 10,
     "metadata": {},
     "output_type": "execute_result"
    }
   ],
   "source": [
    "#9 Create a code cell to convert minutes to hours\n",
    "\n",
    "#This will convert 200 minutes to hours by diving by 60\n",
    "hours = 200 / 60\n",
    "hours"
   ]
  },
  {
   "cell_type": "markdown",
   "id": "7301ca1d",
   "metadata": {},
   "source": [
    "**Objectives:**\n",
    "\n",
    "- List popular languages for Data Science\n",
    "- Understand how to convert time measurements in Python\n",
    "- Explore basic arithmetic operations in Python\n",
    "- Learn how to add comments in Jupyter Notebook\n",
    "- Get familiar with using markdown cells in Jupyter Notebook"
   ]
  },
  {
   "cell_type": "markdown",
   "id": "aec30ec9",
   "metadata": {},
   "source": [
    "# Author\n",
    "\n",
    "[Vinutha Lakshmi]"
   ]
  },
  {
   "cell_type": "code",
   "execution_count": null,
   "id": "c3499220",
   "metadata": {},
   "outputs": [],
   "source": []
  }
 ],
 "metadata": {
  "kernelspec": {
   "display_name": "Python 3 (ipykernel)",
   "language": "python",
   "name": "python3"
  },
  "language_info": {
   "codemirror_mode": {
    "name": "ipython",
    "version": 3
   },
   "file_extension": ".py",
   "mimetype": "text/x-python",
   "name": "python",
   "nbconvert_exporter": "python",
   "pygments_lexer": "ipython3",
   "version": "3.11.4"
  }
 },
 "nbformat": 4,
 "nbformat_minor": 5
}
